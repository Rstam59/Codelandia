{
  "nbformat": 4,
  "nbformat_minor": 0,
  "metadata": {
    "colab": {
      "provenance": [],
      "authorship_tag": "ABX9TyNibS5dSNAWIzQZVKtam6Y9",
      "include_colab_link": true
    },
    "kernelspec": {
      "name": "python3",
      "display_name": "Python 3"
    },
    "language_info": {
      "name": "python"
    }
  },
  "cells": [
    {
      "cell_type": "markdown",
      "metadata": {
        "id": "view-in-github",
        "colab_type": "text"
      },
      "source": [
        "<a href=\"https://colab.research.google.com/github/Rstam59/TaskDataRepoForStudents/blob/main/Numpy.ipynb\" target=\"_parent\"><img src=\"https://colab.research.google.com/assets/colab-badge.svg\" alt=\"Open In Colab\"/></a>"
      ]
    },
    {
      "cell_type": "code",
      "source": [
        "import matplotlib.pyplot as plt\n",
        "import numpy as np\n",
        "from PIL import Image\n",
        "\n",
        "# Load the image\n",
        "image_path = '/content/ladybug.png'  # replace with the path to your image\n",
        "image = Image.open(image_path)\n",
        "\n",
        "# Display the image\n",
        "plt.imshow(image)\n",
        "plt.axis('off')  # turn off the axis\n",
        "plt.show()"
      ],
      "metadata": {
        "id": "UK4B9D-2Smpi"
      },
      "execution_count": null,
      "outputs": []
    },
    {
      "cell_type": "code",
      "source": [
        "# Convert image to NumPy array\n",
        "image_array = np.array(image)\n",
        "\n",
        "# Print pixel values\n",
        "print(image_array)\n",
        "\n",
        "# Print shape of the image array (height, width, channels)\n",
        "print(\"Shape of the image array:\", image_array.shape)\n"
      ],
      "metadata": {
        "id": "8Ru5VOngSlSu"
      },
      "execution_count": null,
      "outputs": []
    },
    {
      "cell_type": "code",
      "source": [
        "import numpy as np\n",
        "\n",
        "a1 = np.array([1, 2, 3])\n",
        "\n",
        "a1.ndim, a1.shape, type(a1), a1.dtype, a1.size"
      ],
      "metadata": {
        "id": "HFtZiQ96_pLE",
        "colab": {
          "base_uri": "https://localhost:8080/"
        },
        "outputId": "12c8702e-a45a-4a58-cbaa-582807fd9a5a"
      },
      "execution_count": 1,
      "outputs": [
        {
          "output_type": "execute_result",
          "data": {
            "text/plain": [
              "(1, (3,), numpy.ndarray, dtype('int64'), 3)"
            ]
          },
          "metadata": {},
          "execution_count": 1
        }
      ]
    },
    {
      "cell_type": "code",
      "source": [
        "a2 = np.array([[1, 2, 3],\n",
        "               [4, 5, 6]])\n",
        "\n",
        "a2.ndim, a2.shape, type(a2), a2.dtype, a2.size"
      ],
      "metadata": {
        "colab": {
          "base_uri": "https://localhost:8080/"
        },
        "id": "PHvpaODwyqFK",
        "outputId": "c31cd753-203e-438a-d47c-8c59e0f95284"
      },
      "execution_count": 2,
      "outputs": [
        {
          "output_type": "execute_result",
          "data": {
            "text/plain": [
              "(2, (2, 3), numpy.ndarray, dtype('int64'), 6)"
            ]
          },
          "metadata": {},
          "execution_count": 2
        }
      ]
    },
    {
      "cell_type": "code",
      "source": [
        "a3 = np.array([[[1, 2, 3],\n",
        "                [4, 5, 6]],\n",
        "\n",
        "               [[1, 3, 5],\n",
        "                [3, 4, 2]]])\n",
        "\n",
        "a3.ndim, a3.shape, type(a3), a3.dtype, a3.size"
      ],
      "metadata": {
        "colab": {
          "base_uri": "https://localhost:8080/"
        },
        "id": "6vDI_dqLzbA6",
        "outputId": "558acd49-addf-4cce-fe29-e169d0d8da41"
      },
      "execution_count": 3,
      "outputs": [
        {
          "output_type": "execute_result",
          "data": {
            "text/plain": [
              "(3, (2, 2, 3), numpy.ndarray, dtype('int64'), 12)"
            ]
          },
          "metadata": {},
          "execution_count": 3
        }
      ]
    },
    {
      "cell_type": "code",
      "source": [
        "np.random.seed(1)\n",
        "random_arr = np.random.randint(1, 10, size = (2, 5, 5))\n",
        "random_arr"
      ],
      "metadata": {
        "colab": {
          "base_uri": "https://localhost:8080/"
        },
        "id": "4WTVnY3Bz8_q",
        "outputId": "44b04383-20dd-4541-8392-29784ab7c0af"
      },
      "execution_count": 4,
      "outputs": [
        {
          "output_type": "execute_result",
          "data": {
            "text/plain": [
              "array([[[6, 9, 6, 1, 1],\n",
              "        [2, 8, 7, 3, 5],\n",
              "        [6, 3, 5, 3, 5],\n",
              "        [8, 8, 2, 8, 1],\n",
              "        [7, 8, 7, 2, 1]],\n",
              "\n",
              "       [[2, 9, 9, 4, 9],\n",
              "        [8, 4, 7, 6, 2],\n",
              "        [4, 5, 9, 2, 5],\n",
              "        [1, 4, 3, 1, 5],\n",
              "        [3, 8, 8, 9, 7]]])"
            ]
          },
          "metadata": {},
          "execution_count": 4
        }
      ]
    },
    {
      "cell_type": "code",
      "source": [
        "np.random.randn(100)"
      ],
      "metadata": {
        "colab": {
          "base_uri": "https://localhost:8080/"
        },
        "id": "TJHF8Nl11R7E",
        "outputId": "ddd2a86b-e5d7-4398-dd3a-830f65652c9e"
      },
      "execution_count": 5,
      "outputs": [
        {
          "output_type": "execute_result",
          "data": {
            "text/plain": [
              "array([-0.26788808,  0.53035547, -0.69166075, -0.39675353, -0.6871727 ,\n",
              "       -0.84520564, -0.67124613, -0.0126646 , -1.11731035,  0.2344157 ,\n",
              "        1.65980218,  0.74204416, -0.19183555, -0.88762896, -0.74715829,\n",
              "        1.6924546 ,  0.05080775, -0.63699565,  0.19091548,  2.10025514,\n",
              "        0.12015895,  0.61720311,  0.30017032, -0.35224985, -1.1425182 ,\n",
              "       -0.34934272, -0.20889423,  0.58662319,  0.83898341,  0.93110208,\n",
              "        0.28558733,  0.88514116, -0.75439794,  1.25286816,  0.51292982,\n",
              "       -0.29809284,  0.48851815, -0.07557171,  1.13162939,  1.51981682,\n",
              "        2.18557541, -1.39649634, -1.44411381, -0.50446586,  0.16003707,\n",
              "        0.87616892,  0.31563495, -2.02220122, -0.30620401,  0.82797464,\n",
              "        0.23009474,  0.76201118, -0.22232814, -0.20075807,  0.18656139,\n",
              "        0.41005165,  0.19829972,  0.11900865, -0.67066229,  0.37756379,\n",
              "        0.12182127,  1.12948391,  1.19891788,  0.18515642, -0.37528495,\n",
              "       -0.63873041,  0.42349435,  0.07734007, -0.34385368,  0.04359686,\n",
              "       -0.62000084,  0.69803203, -0.44712856,  1.2245077 ,  0.40349164,\n",
              "        0.59357852, -1.09491185,  0.16938243,  0.74055645, -0.9537006 ,\n",
              "       -0.26621851,  0.03261455, -1.37311732,  0.31515939,  0.84616065,\n",
              "       -0.85951594,  0.35054598, -1.31228341, -0.03869551, -1.61577235,\n",
              "        1.12141771,  0.40890054, -0.02461696, -0.77516162,  1.27375593,\n",
              "        1.96710175, -1.85798186,  1.23616403,  1.62765075,  0.3380117 ])"
            ]
          },
          "metadata": {},
          "execution_count": 5
        }
      ]
    },
    {
      "cell_type": "code",
      "source": [
        "np.random.seed(1)\n",
        "random_arr = np.random.randint(1, 10, size = (2, 5, 5))\n",
        "random_arr"
      ],
      "metadata": {
        "id": "IahkZ3gOLQog",
        "colab": {
          "base_uri": "https://localhost:8080/"
        },
        "outputId": "3ad7f8c1-5d5c-4ef5-f8e8-be564d5b182c"
      },
      "execution_count": 21,
      "outputs": [
        {
          "output_type": "execute_result",
          "data": {
            "text/plain": [
              "array([[[6, 9, 6, 1, 1],\n",
              "        [2, 8, 7, 3, 5],\n",
              "        [6, 3, 5, 3, 5],\n",
              "        [8, 8, 2, 8, 1],\n",
              "        [7, 8, 7, 2, 1]],\n",
              "\n",
              "       [[2, 9, 9, 4, 9],\n",
              "        [8, 4, 7, 6, 2],\n",
              "        [4, 5, 9, 2, 5],\n",
              "        [1, 4, 3, 1, 5],\n",
              "        [3, 8, 8, 9, 7]]])"
            ]
          },
          "metadata": {},
          "execution_count": 21
        }
      ]
    },
    {
      "cell_type": "code",
      "source": [
        "random_arr[:, 3:, 3]"
      ],
      "metadata": {
        "colab": {
          "base_uri": "https://localhost:8080/"
        },
        "id": "yd7ItokrBwOp",
        "outputId": "b446a857-4156-459a-828c-dfa31bdf63d7"
      },
      "execution_count": 23,
      "outputs": [
        {
          "output_type": "execute_result",
          "data": {
            "text/plain": [
              "array([[8, 2],\n",
              "       [1, 9]])"
            ]
          },
          "metadata": {},
          "execution_count": 23
        }
      ]
    },
    {
      "cell_type": "code",
      "source": [
        "import time\n",
        "\n",
        "start = time.time()\n",
        "arr = np.random.randint(1, 10, size = (1_000_0000))\n",
        "result = arr ** 10\n",
        "\n",
        "end = time.time()\n",
        "\n",
        "end - start"
      ],
      "metadata": {
        "colab": {
          "base_uri": "https://localhost:8080/"
        },
        "id": "J1svlhYGCTMR",
        "outputId": "28e14050-6fa6-4b13-b673-67e4d0b345c6"
      },
      "execution_count": 50,
      "outputs": [
        {
          "output_type": "execute_result",
          "data": {
            "text/plain": [
              "0.2817072868347168"
            ]
          },
          "metadata": {},
          "execution_count": 50
        }
      ]
    },
    {
      "cell_type": "code",
      "source": [
        "start = time.time()\n",
        "\n",
        "result = []\n",
        "for i in range(1_000_0000):\n",
        "    result.append(i ** 10)\n",
        "\n",
        "end = time.time()\n",
        "\n",
        "end - start"
      ],
      "metadata": {
        "colab": {
          "base_uri": "https://localhost:8080/"
        },
        "id": "TJi61q_gDmAD",
        "outputId": "1c596145-a31e-4f3f-d898-7de6dbfd6aea"
      },
      "execution_count": 51,
      "outputs": [
        {
          "output_type": "execute_result",
          "data": {
            "text/plain": [
              "6.701652765274048"
            ]
          },
          "metadata": {},
          "execution_count": 51
        }
      ]
    },
    {
      "cell_type": "code",
      "source": [
        "6.701652765274048 / 0.2817072868347168"
      ],
      "metadata": {
        "colab": {
          "base_uri": "https://localhost:8080/"
        },
        "id": "QcYpkEGGD3-2",
        "outputId": "e5d9b9c9-9a41-462a-873c-4e0de5bb62ed"
      },
      "execution_count": 52,
      "outputs": [
        {
          "output_type": "execute_result",
          "data": {
            "text/plain": [
              "23.78941929608672"
            ]
          },
          "metadata": {},
          "execution_count": 52
        }
      ]
    },
    {
      "cell_type": "code",
      "source": [
        "a1 * a2"
      ],
      "metadata": {
        "colab": {
          "base_uri": "https://localhost:8080/"
        },
        "id": "ddXvwc2vD9gf",
        "outputId": "485136d7-62dc-4126-8772-92fdff8a23e6"
      },
      "execution_count": 40,
      "outputs": [
        {
          "output_type": "execute_result",
          "data": {
            "text/plain": [
              "array([[ 1,  4,  9],\n",
              "       [ 4, 10, 18]])"
            ]
          },
          "metadata": {},
          "execution_count": 40
        }
      ]
    },
    {
      "cell_type": "code",
      "source": [
        "a2, a2.shape"
      ],
      "metadata": {
        "colab": {
          "base_uri": "https://localhost:8080/"
        },
        "id": "zql7FxTPEUN1",
        "outputId": "7e4199c7-fe26-4032-d7b2-a07b49ad309a"
      },
      "execution_count": 43,
      "outputs": [
        {
          "output_type": "execute_result",
          "data": {
            "text/plain": [
              "(array([[1, 2, 3],\n",
              "        [4, 5, 6]]),\n",
              " (2, 3))"
            ]
          },
          "metadata": {},
          "execution_count": 43
        }
      ]
    },
    {
      "cell_type": "code",
      "source": [
        "a1, a1.shape"
      ],
      "metadata": {
        "colab": {
          "base_uri": "https://localhost:8080/"
        },
        "id": "5ppyX_ukEogk",
        "outputId": "5af7d81b-bbc7-4342-c620-c359fb6e423a"
      },
      "execution_count": 44,
      "outputs": [
        {
          "output_type": "execute_result",
          "data": {
            "text/plain": [
              "(array([1, 2, 3]), (3,))"
            ]
          },
          "metadata": {},
          "execution_count": 44
        }
      ]
    },
    {
      "cell_type": "code",
      "source": [
        "a2.shape, a3.shape"
      ],
      "metadata": {
        "colab": {
          "base_uri": "https://localhost:8080/"
        },
        "id": "Gt3YmgXJEo18",
        "outputId": "5d8f67de-c04a-479b-9e20-6c17b70c5287"
      },
      "execution_count": 45,
      "outputs": [
        {
          "output_type": "execute_result",
          "data": {
            "text/plain": [
              "((2, 3), (2, 2, 3))"
            ]
          },
          "metadata": {},
          "execution_count": 45
        }
      ]
    },
    {
      "cell_type": "code",
      "source": [
        "a3 * a2"
      ],
      "metadata": {
        "colab": {
          "base_uri": "https://localhost:8080/"
        },
        "id": "zj5ApNjAF1kn",
        "outputId": "fff1cb0a-38c4-4289-8392-0cfdeb35412b"
      },
      "execution_count": 46,
      "outputs": [
        {
          "output_type": "execute_result",
          "data": {
            "text/plain": [
              "array([[[ 1,  4,  9],\n",
              "        [16, 25, 36]],\n",
              "\n",
              "       [[ 1,  6, 15],\n",
              "        [12, 20, 12]]])"
            ]
          },
          "metadata": {},
          "execution_count": 46
        }
      ]
    },
    {
      "cell_type": "code",
      "source": [
        "random_arr.shape"
      ],
      "metadata": {
        "colab": {
          "base_uri": "https://localhost:8080/"
        },
        "id": "-IBqYCI0F5Du",
        "outputId": "5edc03ce-badf-4bf8-ebda-b4c8c7936fbd"
      },
      "execution_count": 48,
      "outputs": [
        {
          "output_type": "execute_result",
          "data": {
            "text/plain": [
              "(2, 5, 5)"
            ]
          },
          "metadata": {},
          "execution_count": 48
        }
      ]
    },
    {
      "cell_type": "code",
      "source": [
        "np.array([1, 2, 3]) * np.array([2, 2, 2])"
      ],
      "metadata": {
        "colab": {
          "base_uri": "https://localhost:8080/"
        },
        "id": "B_jckEK8GauI",
        "outputId": "c255318d-3fdf-412e-c04d-0958b3bca541"
      },
      "execution_count": 49,
      "outputs": [
        {
          "output_type": "execute_result",
          "data": {
            "text/plain": [
              "array([2, 4, 6])"
            ]
          },
          "metadata": {},
          "execution_count": 49
        }
      ]
    },
    {
      "cell_type": "code",
      "source": [
        "a2.T"
      ],
      "metadata": {
        "colab": {
          "base_uri": "https://localhost:8080/"
        },
        "id": "LlTiOzzHGqbd",
        "outputId": "7b04e30c-edc5-4c6c-b419-16410b325bc7"
      },
      "execution_count": 54,
      "outputs": [
        {
          "output_type": "execute_result",
          "data": {
            "text/plain": [
              "array([[1, 4],\n",
              "       [2, 5],\n",
              "       [3, 6]])"
            ]
          },
          "metadata": {},
          "execution_count": 54
        }
      ]
    },
    {
      "cell_type": "code",
      "source": [
        "a2.transpose()"
      ],
      "metadata": {
        "colab": {
          "base_uri": "https://localhost:8080/"
        },
        "id": "ENEISOnEHgGE",
        "outputId": "9b4e338a-7a34-44e6-859d-3940e527041c"
      },
      "execution_count": 55,
      "outputs": [
        {
          "output_type": "execute_result",
          "data": {
            "text/plain": [
              "array([[1, 4],\n",
              "       [2, 5],\n",
              "       [3, 6]])"
            ]
          },
          "metadata": {},
          "execution_count": 55
        }
      ]
    },
    {
      "cell_type": "code",
      "source": [
        "a2.shape, a2.T.shape"
      ],
      "metadata": {
        "colab": {
          "base_uri": "https://localhost:8080/"
        },
        "id": "EjxFt5qsHyYJ",
        "outputId": "e2b16fa3-93cf-4bf9-d48c-e433ff3d9716"
      },
      "execution_count": 56,
      "outputs": [
        {
          "output_type": "execute_result",
          "data": {
            "text/plain": [
              "((2, 3), (3, 2))"
            ]
          },
          "metadata": {},
          "execution_count": 56
        }
      ]
    },
    {
      "cell_type": "code",
      "source": [
        "a2.reshape(3, 2)"
      ],
      "metadata": {
        "colab": {
          "base_uri": "https://localhost:8080/"
        },
        "id": "iqXckkU4H4P-",
        "outputId": "e588ba0a-6615-4ba4-c59f-86f724a9ac3e"
      },
      "execution_count": 57,
      "outputs": [
        {
          "output_type": "execute_result",
          "data": {
            "text/plain": [
              "array([[1, 2],\n",
              "       [3, 4],\n",
              "       [5, 6]])"
            ]
          },
          "metadata": {},
          "execution_count": 57
        }
      ]
    },
    {
      "cell_type": "code",
      "source": [
        "a2.T"
      ],
      "metadata": {
        "colab": {
          "base_uri": "https://localhost:8080/"
        },
        "id": "bVE2TalVH9Eu",
        "outputId": "00bab0fa-f520-47fc-81c9-6c9b9369ec61"
      },
      "execution_count": 59,
      "outputs": [
        {
          "output_type": "execute_result",
          "data": {
            "text/plain": [
              "array([[1, 4],\n",
              "       [2, 5],\n",
              "       [3, 6]])"
            ]
          },
          "metadata": {},
          "execution_count": 59
        }
      ]
    },
    {
      "cell_type": "code",
      "source": [
        "random_arr.shape"
      ],
      "metadata": {
        "colab": {
          "base_uri": "https://localhost:8080/"
        },
        "id": "4frHgzcdIBcc",
        "outputId": "987e7db4-fb78-4433-c019-97fee399eee3"
      },
      "execution_count": 61,
      "outputs": [
        {
          "output_type": "execute_result",
          "data": {
            "text/plain": [
              "(2, 5, 5)"
            ]
          },
          "metadata": {},
          "execution_count": 61
        }
      ]
    },
    {
      "cell_type": "code",
      "source": [
        "random_arr.size"
      ],
      "metadata": {
        "colab": {
          "base_uri": "https://localhost:8080/"
        },
        "id": "n0kHsZxIIHLt",
        "outputId": "262b9e73-873d-407b-92df-c237adc43f37"
      },
      "execution_count": 62,
      "outputs": [
        {
          "output_type": "execute_result",
          "data": {
            "text/plain": [
              "50"
            ]
          },
          "metadata": {},
          "execution_count": 62
        }
      ]
    },
    {
      "cell_type": "code",
      "source": [
        "a2.shape, a2.T.shape"
      ],
      "metadata": {
        "colab": {
          "base_uri": "https://localhost:8080/"
        },
        "id": "mGFvtsPBINW8",
        "outputId": "c927e9ae-6b1e-4cc9-9f88-6a4349d71daa"
      },
      "execution_count": 68,
      "outputs": [
        {
          "output_type": "execute_result",
          "data": {
            "text/plain": [
              "((2, 3), (3, 2))"
            ]
          },
          "metadata": {},
          "execution_count": 68
        }
      ]
    },
    {
      "cell_type": "code",
      "source": [
        "a2 @ a2.T"
      ],
      "metadata": {
        "colab": {
          "base_uri": "https://localhost:8080/"
        },
        "id": "oSGRElx9IXkE",
        "outputId": "25b7d71f-4c92-458a-df5d-ea35971ea39f"
      },
      "execution_count": 69,
      "outputs": [
        {
          "output_type": "execute_result",
          "data": {
            "text/plain": [
              "array([[14, 32],\n",
              "       [32, 77]])"
            ]
          },
          "metadata": {},
          "execution_count": 69
        }
      ]
    },
    {
      "cell_type": "code",
      "source": [
        "np.dot(a2, a2.T)"
      ],
      "metadata": {
        "colab": {
          "base_uri": "https://localhost:8080/"
        },
        "id": "__1jyZkWJQrS",
        "outputId": "36ef950d-c310-41e1-e44b-c4102e960987"
      },
      "execution_count": 70,
      "outputs": [
        {
          "output_type": "execute_result",
          "data": {
            "text/plain": [
              "array([[14, 32],\n",
              "       [32, 77]])"
            ]
          },
          "metadata": {},
          "execution_count": 70
        }
      ]
    },
    {
      "cell_type": "code",
      "source": [
        "np.matmul(a2, a2.T)"
      ],
      "metadata": {
        "colab": {
          "base_uri": "https://localhost:8080/"
        },
        "id": "m0VoWy-GJdcd",
        "outputId": "b03574cb-d5f3-4f28-b566-1f54686f0f0c"
      },
      "execution_count": 71,
      "outputs": [
        {
          "output_type": "execute_result",
          "data": {
            "text/plain": [
              "array([[14, 32],\n",
              "       [32, 77]])"
            ]
          },
          "metadata": {},
          "execution_count": 71
        }
      ]
    },
    {
      "cell_type": "code",
      "source": [
        "np.sum(a3)"
      ],
      "metadata": {
        "colab": {
          "base_uri": "https://localhost:8080/"
        },
        "id": "QwIYJ5KtJmWH",
        "outputId": "10ea7d70-47f3-4051-bbec-99df713b6087"
      },
      "execution_count": 77,
      "outputs": [
        {
          "output_type": "execute_result",
          "data": {
            "text/plain": [
              "39"
            ]
          },
          "metadata": {},
          "execution_count": 77
        }
      ]
    },
    {
      "cell_type": "code",
      "source": [
        "sum(a3)"
      ],
      "metadata": {
        "colab": {
          "base_uri": "https://localhost:8080/"
        },
        "id": "X85kCNxnKMez",
        "outputId": "c094f1f9-6642-45ee-a892-b24380e016e2"
      },
      "execution_count": 78,
      "outputs": [
        {
          "output_type": "execute_result",
          "data": {
            "text/plain": [
              "array([[2, 5, 8],\n",
              "       [7, 9, 8]])"
            ]
          },
          "metadata": {},
          "execution_count": 78
        }
      ]
    },
    {
      "cell_type": "code",
      "source": [
        "np.zeros(shape = (3, 5, 5))"
      ],
      "metadata": {
        "colab": {
          "base_uri": "https://localhost:8080/"
        },
        "id": "bBMprKzGKNrR",
        "outputId": "444185ad-bd54-4366-ce93-7cc2f3a32833"
      },
      "execution_count": 84,
      "outputs": [
        {
          "output_type": "execute_result",
          "data": {
            "text/plain": [
              "array([[[0., 0., 0., 0., 0.],\n",
              "        [0., 0., 0., 0., 0.],\n",
              "        [0., 0., 0., 0., 0.],\n",
              "        [0., 0., 0., 0., 0.],\n",
              "        [0., 0., 0., 0., 0.]],\n",
              "\n",
              "       [[0., 0., 0., 0., 0.],\n",
              "        [0., 0., 0., 0., 0.],\n",
              "        [0., 0., 0., 0., 0.],\n",
              "        [0., 0., 0., 0., 0.],\n",
              "        [0., 0., 0., 0., 0.]],\n",
              "\n",
              "       [[0., 0., 0., 0., 0.],\n",
              "        [0., 0., 0., 0., 0.],\n",
              "        [0., 0., 0., 0., 0.],\n",
              "        [0., 0., 0., 0., 0.],\n",
              "        [0., 0., 0., 0., 0.]]])"
            ]
          },
          "metadata": {},
          "execution_count": 84
        }
      ]
    },
    {
      "cell_type": "code",
      "source": [
        "np.ones(shape = (3, 3, 3))"
      ],
      "metadata": {
        "colab": {
          "base_uri": "https://localhost:8080/"
        },
        "id": "C8a-GhQKKiJb",
        "outputId": "c66d71e7-018f-4fd4-ba96-eb365dfee850"
      },
      "execution_count": 85,
      "outputs": [
        {
          "output_type": "execute_result",
          "data": {
            "text/plain": [
              "array([[[1., 1., 1.],\n",
              "        [1., 1., 1.],\n",
              "        [1., 1., 1.]],\n",
              "\n",
              "       [[1., 1., 1.],\n",
              "        [1., 1., 1.],\n",
              "        [1., 1., 1.]],\n",
              "\n",
              "       [[1., 1., 1.],\n",
              "        [1., 1., 1.],\n",
              "        [1., 1., 1.]]])"
            ]
          },
          "metadata": {},
          "execution_count": 85
        }
      ]
    },
    {
      "cell_type": "code",
      "source": [
        "a2.var(), a2.std()"
      ],
      "metadata": {
        "colab": {
          "base_uri": "https://localhost:8080/"
        },
        "id": "vSGnVhACK5zj",
        "outputId": "b97c8def-a731-462b-9c79-5158a498759d"
      },
      "execution_count": 88,
      "outputs": [
        {
          "output_type": "execute_result",
          "data": {
            "text/plain": [
              "(2.9166666666666665, 1.707825127659933)"
            ]
          },
          "metadata": {},
          "execution_count": 88
        }
      ]
    },
    {
      "cell_type": "code",
      "source": [],
      "metadata": {
        "id": "8gHm6ecULM6f"
      },
      "execution_count": null,
      "outputs": []
    }
  ]
}